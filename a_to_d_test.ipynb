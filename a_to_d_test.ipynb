{
 "cells": [
  {
   "cell_type": "code",
   "execution_count": 79,
   "metadata": {},
   "outputs": [],
   "source": [
    "import sqlite3\n",
    "import pandas as pd"
   ]
  },
  {
   "cell_type": "code",
   "execution_count": 124,
   "metadata": {},
   "outputs": [],
   "source": [
    "conn = sqlite3.connect('congress.db')"
   ]
  },
  {
   "cell_type": "code",
   "execution_count": 169,
   "metadata": {},
   "outputs": [],
   "source": [
    "def query2df(conn, statement):\n",
    "    conn.row_factory = sqlite3.Row\n",
    "    c = conn.cursor()\n",
    "    c.execute(statement)\n",
    "    r = c.fetchall()\n",
    "    k = r[0].keys()\n",
    "    c.close()\n",
    "    return pd.DataFrame(r, columns=k)"
   ]
  },
  {
   "cell_type": "code",
   "execution_count": 170,
   "metadata": {},
   "outputs": [],
   "source": [
    "query = '''\n",
    "            SELECT *\n",
    "                FROM all_congress\n",
    "                WHERE chamber = 'house'\n",
    "            ;\n",
    "            '''"
   ]
  },
  {
   "cell_type": "code",
   "execution_count": 171,
   "metadata": {},
   "outputs": [],
   "source": [
    "df = query2df(conn, query)"
   ]
  },
  {
   "cell_type": "code",
   "execution_count": 175,
   "metadata": {},
   "outputs": [],
   "source": [
    "df['date_of_birth'] = pd.to_datetime(df['date_of_birth'])"
   ]
  },
  {
   "cell_type": "code",
   "execution_count": 177,
   "metadata": {},
   "outputs": [
    {
     "name": "stdout",
     "output_type": "stream",
     "text": [
      "<class 'pandas.core.frame.DataFrame'>\n",
      "RangeIndex: 6744 entries, 0 to 6743\n",
      "Data columns (total 11 columns):\n",
      " #   Column         Non-Null Count  Dtype         \n",
      "---  ------         --------------  -----         \n",
      " 0   id             6744 non-null   object        \n",
      " 1   first_name     6744 non-null   object        \n",
      " 2   middle_name    2606 non-null   object        \n",
      " 3   last_name      6744 non-null   object        \n",
      " 4   suffix         151 non-null    object        \n",
      " 5   date_of_birth  6744 non-null   datetime64[ns]\n",
      " 6   gender         6691 non-null   object        \n",
      " 7   party          6744 non-null   object        \n",
      " 8   state          6744 non-null   object        \n",
      " 9   chamber        6744 non-null   object        \n",
      " 10  congress       6744 non-null   int64         \n",
      "dtypes: datetime64[ns](1), int64(1), object(9)\n",
      "memory usage: 579.7+ KB\n"
     ]
    }
   ],
   "source": [
    "df.info()"
   ]
  },
  {
   "cell_type": "code",
   "execution_count": null,
   "metadata": {},
   "outputs": [],
   "source": []
  }
 ],
 "metadata": {
  "kernelspec": {
   "display_name": "cong-env",
   "language": "python",
   "name": "cong-env"
  },
  "language_info": {
   "codemirror_mode": {
    "name": "ipython",
    "version": 3
   },
   "file_extension": ".py",
   "mimetype": "text/x-python",
   "name": "python",
   "nbconvert_exporter": "python",
   "pygments_lexer": "ipython3",
   "version": "3.7.7"
  }
 },
 "nbformat": 4,
 "nbformat_minor": 4
}
