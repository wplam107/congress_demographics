{
 "cells": [
  {
   "cell_type": "code",
   "execution_count": 48,
   "metadata": {},
   "outputs": [],
   "source": [
    "import configparser\n",
    "import requests\n",
    "import sqlite3\n",
    "import re\n",
    "from bs4 import BeautifulSoup"
   ]
  },
  {
   "cell_type": "code",
   "execution_count": 83,
   "metadata": {},
   "outputs": [],
   "source": [
    "COLS = [\n",
    "    'id',\n",
    "    'first_name',\n",
    "    'middle_name',\n",
    "    'last_name',\n",
    "    'suffix',\n",
    "    'date_of_birth',\n",
    "    'gender',\n",
    "    'party',\n",
    "    'state',\n",
    "    'congress',\n",
    "    'chamber',\n",
    "]"
   ]
  },
  {
   "cell_type": "code",
   "execution_count": 84,
   "metadata": {},
   "outputs": [],
   "source": [
    "class ApiToData:\n",
    "    '''\n",
    "    Class object to retrieve ProPublica API general data on past and current congress members.\n",
    "    \n",
    "    Parameters\n",
    "    ----------\n",
    "    config_file - string, can be set with methods later\n",
    "    db_name - string, can be set with method later\n",
    "    '''\n",
    "    def __init__(self, config_file=None, db_name=None, columns=[]):\n",
    "        if type(config_file) == str:\n",
    "            config_ = configparser.ConfigParser()\n",
    "            config_.read(config_file)\n",
    "            self.api_key = config_.get('propublica', 'PROPUBLICA_API_KEY')\n",
    "            del config_\n",
    "        else:\n",
    "            self.api_key = None\n",
    "            \n",
    "        if type(db_name) == str:\n",
    "            self.conn = sqlite3.connect(db_name)\n",
    "        else:\n",
    "            self.conn = None\n",
    "    \n",
    "        self.columns = columns\n",
    "        \n",
    "    def set_config_file(self, config_file):\n",
    "        '''\n",
    "        Enter path of config_file as string. Reads config.ini with configparser.\n",
    "        For ProPublica API key register at:\n",
    "        https://www.propublica.org/datastore/api/propublica-congress-api\n",
    "        '''\n",
    "        config_ = configparser.ConfigParser()\n",
    "        config_.read(config_file)\n",
    "        self.api_key = config_.get('propublica', 'PROPUBLICA_API_KEY')\n",
    "        del config_\n",
    "    \n",
    "    def set_api_key(self, api_key):\n",
    "        '''\n",
    "        Enter ProPublica api_key as string. For ProPublica API key register at:\n",
    "        https://www.propublica.org/datastore/api/propublica-congress-api\n",
    "        '''\n",
    "        self.api_key = api_key\n",
    "    \n",
    "    def set_db_name(self, db_name):\n",
    "        '''\n",
    "        Enter db_name as string.\n",
    "        '''\n",
    "        self.conn = sqlite3.connect(db_name)\n",
    "    \n",
    "    def get_pp_data(self, chamber, congresses=None):\n",
    "        '''\n",
    "        Retrieve congressional member data from ProPublica API.\n",
    "        '''\n",
    "        assert chamber.lower() == 'senate' or 'house', \"Enter 'senate' or 'house'\"\n",
    "        self.chamber = chamber.lower()\n",
    "        \n",
    "        assert self.api_key != None, 'Enter ProPublica API Key with set_config_file() or set_api_key()'\n",
    "        \n",
    "        assert (congresses == None) | (type(congresses) == range), 'Congresses must be range or None type'\n",
    "        if self.chamber == 'senate':\n",
    "            if congresses == None:\n",
    "                self.senate_range = self.__scrape_range()\n",
    "            else:\n",
    "                self.senate_range = congresses\n",
    "        else:\n",
    "            if congresses == None:\n",
    "                self.house_range = self.__scrape_range()\n",
    "            else:\n",
    "                self.house_range = congresses\n",
    "        \n",
    "        assert self.conn != None, 'Set db_name with set_db_name()'\n",
    "        self.create_table()\n",
    "        \n",
    "            \n",
    "    def __scrape_range(self):\n",
    "        url = 'https://projects.propublica.org/api-docs/congress-api/members/'\n",
    "        page = requests.get(url)\n",
    "        soup = BeautifulSoup(page.content, 'html.parser')\n",
    "        param_string = soup.find('td', string='congress').find_next_sibling().text\n",
    "        \n",
    "        if self.chamber == 'senate':\n",
    "            s = str(re.search(r'(?<=House, ).*(?= for Senate)', param_string)[0])\n",
    "        else:\n",
    "            s = str(re.search(r'.*(?= for H)', param_string)[0])\n",
    "        range_ = s.split('-')\n",
    "        range_ = range(int(range_[0]), int(range_[1])+1)\n",
    "        \n",
    "        return range_\n",
    "    \n",
    "    def __create_table(self):\n",
    "        cols_ = [ f'{col} TEXT' for col in self.columns ]\n",
    "        cols_ = ', '.join(cols_)\n",
    "        cols_ = cols_ + ', congress TEXT, chamber TEXT'\n",
    "        c = self.conn.cursor()\n",
    "        c.execute(\n",
    "            f'''\n",
    "            CREATE TABLE congress (\n",
    "                {cols_}\n",
    "            )\n",
    "            ;\n",
    "            '''\n",
    "        )\n",
    "        c.close()\n",
    "    \n",
    "    def __insert_data(self):\n",
    "        s = ','.join('?'*len(self.columns+2))\n",
    "        insert_statement = f'''INSERT INTO congress VALUES ({s})'''\n",
    "        congress = get_congress(n, chamber)\n",
    "        members = get_members(n, congress)\n",
    "        c = conn.cursor()\n",
    "        c.executemany(insert_statement, members)\n",
    "        c.close()\n",
    "    \n",
    "    def __get_congress(self):\n",
    "        r = requests.get(\n",
    "            f'https://api.propublica.org/congress/v1/{n}/{self.chamber}/members.json',\n",
    "            headers={'X-API-Key': self.api_key}\n",
    "        )\n",
    "        results = r.json()['results'][0]['members']\n",
    "        return results\n",
    "    \n",
    "    def __get_members(self):\n",
    "        if len(congress[0]) == 43:\n",
    "            members = [ tuple(list(member.values()) + [f'{n}']) for member in congress ]\n",
    "        else:\n",
    "            members = [ tuple(list(member.values())[:42] + [f'{n}']) for member in congress ]\n",
    "        return members"
   ]
  },
  {
   "cell_type": "code",
   "execution_count": 85,
   "metadata": {},
   "outputs": [],
   "source": [
    "test = ApiToData('config.ini')"
   ]
  },
  {
   "cell_type": "code",
   "execution_count": 73,
   "metadata": {},
   "outputs": [],
   "source": [
    "test.get_pp_data('house')"
   ]
  },
  {
   "cell_type": "code",
   "execution_count": 75,
   "metadata": {},
   "outputs": [
    {
     "data": {
      "text/plain": [
       "range(102, 117)"
      ]
     },
     "execution_count": 75,
     "metadata": {},
     "output_type": "execute_result"
    }
   ],
   "source": [
    "test.house_range"
   ]
  },
  {
   "cell_type": "code",
   "execution_count": null,
   "metadata": {},
   "outputs": [],
   "source": []
  }
 ],
 "metadata": {
  "kernelspec": {
   "display_name": "cong-env",
   "language": "python",
   "name": "cong-env"
  },
  "language_info": {
   "codemirror_mode": {
    "name": "ipython",
    "version": 3
   },
   "file_extension": ".py",
   "mimetype": "text/x-python",
   "name": "python",
   "nbconvert_exporter": "python",
   "pygments_lexer": "ipython3",
   "version": "3.7.7"
  }
 },
 "nbformat": 4,
 "nbformat_minor": 4
}
