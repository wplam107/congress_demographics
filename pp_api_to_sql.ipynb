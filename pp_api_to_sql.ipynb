{
 "cells": [
  {
   "cell_type": "markdown",
   "metadata": {},
   "source": [
    "# Transferring Senator Data From ProPublica to SQLite DB"
   ]
  },
  {
   "cell_type": "code",
   "execution_count": 1,
   "metadata": {},
   "outputs": [],
   "source": [
    "# Config file\n",
    "import configparser\n",
    "\n",
    "# Serverless SQL database\n",
    "import sqlite3\n",
    "\n",
    "# API and webscrape libraries\n",
    "import requests\n",
    "import re\n",
    "from bs4 import BeautifulSoup"
   ]
  },
  {
   "cell_type": "markdown",
   "metadata": {},
   "source": [
    "## Webscrape Congress Numbers"
   ]
  },
  {
   "cell_type": "code",
   "execution_count": 2,
   "metadata": {},
   "outputs": [],
   "source": [
    "# Get ProPublica documentation\n",
    "url = 'https://projects.propublica.org/api-docs/congress-api/members/'\n",
    "page = requests.get(url)\n",
    "soup = BeautifulSoup(page.content, 'html.parser')"
   ]
  },
  {
   "cell_type": "code",
   "execution_count": 3,
   "metadata": {},
   "outputs": [
    {
     "name": "stdout",
     "output_type": "stream",
     "text": [
      "102-116 for House, 80-116 for Senate\n"
     ]
    }
   ],
   "source": [
    "# Find string with available house and senate\n",
    "param_string = soup.find('td', string='congress').find_next_sibling().text\n",
    "print(param_string) # As of December 21st, 2020"
   ]
  },
  {
   "cell_type": "code",
   "execution_count": 4,
   "metadata": {},
   "outputs": [],
   "source": [
    "# Regex the congresses available from API\n",
    "sen_range = str(re.search(r'(?<=House, ).*(?= for Senate)', param_string)[0])\n",
    "sen_range = sen_range.split('-')\n",
    "sen_range = range(int(sen_range[0]), int(sen_range[1])+1)\n",
    "house_range = str(re.search(r'.*(?= for H)', param_string)[0])\n",
    "house_range = house_range.split('-')\n",
    "house_range = range(int(house_range[0]), int(house_range[1])+1)"
   ]
  },
  {
   "cell_type": "code",
   "execution_count": 5,
   "metadata": {},
   "outputs": [
    {
     "name": "stdout",
     "output_type": "stream",
     "text": [
      "range(80, 117)\n",
      "range(102, 117)\n"
     ]
    }
   ],
   "source": [
    "print(sen_range)\n",
    "print(house_range)"
   ]
  },
  {
   "cell_type": "markdown",
   "metadata": {},
   "source": [
    "## API Data to SQL DB"
   ]
  },
  {
   "cell_type": "code",
   "execution_count": 6,
   "metadata": {},
   "outputs": [],
   "source": [
    "# Config API\n",
    "config = configparser.ConfigParser()\n",
    "config.read('config.ini')\n",
    "api_key = config.get('propublica', 'PROPUBLICA_API_KEY')"
   ]
  },
  {
   "cell_type": "code",
   "execution_count": 7,
   "metadata": {},
   "outputs": [],
   "source": [
    "# Instantiate SQLite DB\n",
    "conn = sqlite3.connect('cong_80_116.db')"
   ]
  },
  {
   "cell_type": "code",
   "execution_count": 8,
   "metadata": {
    "scrolled": false
   },
   "outputs": [
    {
     "name": "stdout",
     "output_type": "stream",
     "text": [
      "First 5 columns: ['id', 'title', 'short_title', 'api_uri', 'first_name']\n",
      "Number of columns: 42\n"
     ]
    }
   ],
   "source": [
    "# Determine columns for database (Note: 101st Congress and above has 45 columns, 3 are constructed)\n",
    "r = requests.get(\n",
    "        f'https://api.propublica.org/congress/v1/80/senate/members.json',\n",
    "        headers={'X-API-Key': api_key}\n",
    ")\n",
    "sample = r.json()['results'][0]['members'][0]\n",
    "cols = list(sample.keys())\n",
    "print(f'First 5 columns: {cols[:5]}')\n",
    "print(f'Number of columns: {len(cols)}')"
   ]
  },
  {
   "cell_type": "code",
   "execution_count": 9,
   "metadata": {},
   "outputs": [],
   "source": [
    "# Add congress number column and format for \n",
    "cols = [ col + ' TEXT' for col in cols ]\n",
    "cols = ', '.join(cols)\n",
    "cols = cols + ', congress TEXT'"
   ]
  },
  {
   "cell_type": "code",
   "execution_count": 10,
   "metadata": {},
   "outputs": [],
   "source": [
    "# Create senator table\n",
    "c = conn.cursor()\n",
    "c.execute(\n",
    "    f'''\n",
    "    CREATE TABLE senators\n",
    "    ({cols})\n",
    "    ;\n",
    "    '''\n",
    ")\n",
    "c.close()"
   ]
  },
  {
   "cell_type": "code",
   "execution_count": 25,
   "metadata": {},
   "outputs": [
    {
     "name": "stdout",
     "output_type": "stream",
     "text": [
      "[(0, 'id', 'TEXT', 0, None, 0), (1, 'title', 'TEXT', 0, None, 0), (2, 'short_title', 'TEXT', 0, None, 0), (3, 'api_uri', 'TEXT', 0, None, 0), (4, 'first_name', 'TEXT', 0, None, 0), (5, 'middle_name', 'TEXT', 0, None, 0), (6, 'last_name', 'TEXT', 0, None, 0), (7, 'suffix', 'TEXT', 0, None, 0), (8, 'date_of_birth', 'TEXT', 0, None, 0), (9, 'gender', 'TEXT', 0, None, 0), (10, 'party', 'TEXT', 0, None, 0), (11, 'leadership_role', 'TEXT', 0, None, 0), (12, 'twitter_account', 'TEXT', 0, None, 0), (13, 'facebook_account', 'TEXT', 0, None, 0), (14, 'youtube_account', 'TEXT', 0, None, 0), (15, 'govtrack_id', 'TEXT', 0, None, 0), (16, 'cspan_id', 'TEXT', 0, None, 0), (17, 'votesmart_id', 'TEXT', 0, None, 0), (18, 'icpsr_id', 'TEXT', 0, None, 0), (19, 'crp_id', 'TEXT', 0, None, 0), (20, 'google_entity_id', 'TEXT', 0, None, 0), (21, 'fec_candidate_id', 'TEXT', 0, None, 0), (22, 'url', 'TEXT', 0, None, 0), (23, 'rss_url', 'TEXT', 0, None, 0), (24, 'contact_form', 'TEXT', 0, None, 0), (25, 'in_office', 'TEXT', 0, None, 0), (26, 'cook_pvi', 'TEXT', 0, None, 0), (27, 'dw_nominate', 'TEXT', 0, None, 0), (28, 'ideal_point', 'TEXT', 0, None, 0), (29, 'seniority', 'TEXT', 0, None, 0), (30, 'total_votes', 'TEXT', 0, None, 0), (31, 'missed_votes', 'TEXT', 0, None, 0), (32, 'total_present', 'TEXT', 0, None, 0), (33, 'last_updated', 'TEXT', 0, None, 0), (34, 'ocd_id', 'TEXT', 0, None, 0), (35, 'office', 'TEXT', 0, None, 0), (36, 'phone', 'TEXT', 0, None, 0), (37, 'fax', 'TEXT', 0, None, 0), (38, 'state', 'TEXT', 0, None, 0), (39, 'senate_class', 'TEXT', 0, None, 0), (40, 'state_rank', 'TEXT', 0, None, 0), (41, 'lis_id', 'TEXT', 0, None, 0), (42, 'congress', 'TEXT', 0, None, 0)]\n"
     ]
    }
   ],
   "source": [
    "# Check columns\n",
    "c = conn.cursor()\n",
    "c.execute(\n",
    "    '''\n",
    "    PRAGMA table_info(senators)\n",
    "    ;\n",
    "    '''\n",
    ")\n",
    "print(c.fetchall())\n",
    "c.close()"
   ]
  },
  {
   "cell_type": "code",
   "execution_count": 12,
   "metadata": {},
   "outputs": [],
   "source": [
    "# Function to get data from ProPublica API\n",
    "def get_congress(n, chamber):\n",
    "    r = requests.get(\n",
    "        f'https://api.propublica.org/congress/v1/{n}/{chamber}/members.json',\n",
    "        headers={'X-API-Key': api_key}\n",
    "    )\n",
    "    results = r.json()['results'][0]['members']\n",
    "    return results\n",
    "\n",
    "# Function to extract congressional members\n",
    "def get_members(n, congress):\n",
    "    if len(congress[0]) == 43:\n",
    "        members = [ tuple(list(member.values()) + [f'{n}']) for member in congress ]\n",
    "    else:\n",
    "        members = [ tuple(list(member.values())[:42] + [f'{n}']) for member in congress ]\n",
    "    return members\n",
    "\n",
    "# Function to insert members\n",
    "def insert_members(n, chamber):\n",
    "    # SQL insert statement\n",
    "    s = ','.join('?'*43) # 43 value columns\n",
    "    insert_statement = f'''INSERT INTO senators VALUES ({s})'''\n",
    "    \n",
    "    congress = get_congress(n, chamber)\n",
    "    members = get_members(n, congress)\n",
    "    c = conn.cursor()\n",
    "    c.executemany(insert_statement, members)\n",
    "    c.close()"
   ]
  },
  {
   "cell_type": "code",
   "execution_count": 14,
   "metadata": {
    "scrolled": true
   },
   "outputs": [],
   "source": [
    "# Set parameters\n",
    "congresses = range(80, 117) # from the 80th congress to the 116th congress\n",
    "\n",
    "# Insert members\n",
    "for n in congresses:\n",
    "    insert_members(n, 'senate')"
   ]
  },
  {
   "cell_type": "code",
   "execution_count": 18,
   "metadata": {},
   "outputs": [],
   "source": [
    "c = conn.cursor()\n",
    "c.execute(\n",
    "    '''\n",
    "    SELECT * FROM senators\n",
    "    ;\n",
    "    '''\n",
    ")\n",
    "db = c.fetchall()\n",
    "c.close()"
   ]
  },
  {
   "cell_type": "code",
   "execution_count": 24,
   "metadata": {
    "scrolled": true
   },
   "outputs": [
    {
     "data": {
      "text/plain": [
       "('A000062',\n",
       " 'Senator, 3rd Class',\n",
       " 'Sen.',\n",
       " 'https://api.propublica.org/congress/v1/members/A000062.json',\n",
       " 'George',\n",
       " 'David',\n",
       " 'Aiken',\n",
       " None,\n",
       " '1892-08-20',\n",
       " 'M',\n",
       " 'R',\n",
       " None,\n",
       " None,\n",
       " None,\n",
       " None,\n",
       " '400722',\n",
       " None,\n",
       " None,\n",
       " '52',\n",
       " None,\n",
       " None,\n",
       " '',\n",
       " '',\n",
       " None,\n",
       " None,\n",
       " '0',\n",
       " None,\n",
       " None,\n",
       " None,\n",
       " '6',\n",
       " None,\n",
       " None,\n",
       " None,\n",
       " '2013-04-12 20:11:44 -0400',\n",
       " 'ocd-division/country:us/state:vt',\n",
       " None,\n",
       " None,\n",
       " None,\n",
       " 'VT',\n",
       " '3',\n",
       " '',\n",
       " '',\n",
       " '80')"
      ]
     },
     "execution_count": 24,
     "metadata": {},
     "output_type": "execute_result"
    }
   ],
   "source": [
    "db[0]"
   ]
  },
  {
   "cell_type": "code",
   "execution_count": null,
   "metadata": {},
   "outputs": [],
   "source": []
  }
 ],
 "metadata": {
  "kernelspec": {
   "display_name": "cong-env",
   "language": "python",
   "name": "cong-env"
  },
  "language_info": {
   "codemirror_mode": {
    "name": "ipython",
    "version": 3
   },
   "file_extension": ".py",
   "mimetype": "text/x-python",
   "name": "python",
   "nbconvert_exporter": "python",
   "pygments_lexer": "ipython3",
   "version": "3.7.7"
  }
 },
 "nbformat": 4,
 "nbformat_minor": 4
}
