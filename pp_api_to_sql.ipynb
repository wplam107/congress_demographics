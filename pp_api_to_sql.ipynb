{
 "cells": [
  {
   "cell_type": "markdown",
   "metadata": {},
   "source": [
    "# Transferring Senator Data From ProPublica to SQLite DB"
   ]
  },
  {
   "cell_type": "code",
   "execution_count": 1,
   "metadata": {},
   "outputs": [],
   "source": [
    "import configparser\n",
    "import requests\n",
    "import sqlite3"
   ]
  },
  {
   "cell_type": "code",
   "execution_count": 2,
   "metadata": {},
   "outputs": [],
   "source": [
    "# Config API\n",
    "config = configparser.ConfigParser()\n",
    "config.read('config.ini')\n",
    "api_key = config.get('propublica', 'PROPUBLICA_API_KEY')"
   ]
  },
  {
   "cell_type": "code",
   "execution_count": 3,
   "metadata": {},
   "outputs": [],
   "source": [
    "# Instantiate SQLite DB\n",
    "conn = sqlite3.connect('cong_80_116.db')"
   ]
  },
  {
   "cell_type": "code",
   "execution_count": 4,
   "metadata": {
    "scrolled": false
   },
   "outputs": [
    {
     "name": "stdout",
     "output_type": "stream",
     "text": [
      "First 5 columns: ['id', 'title', 'short_title', 'api_uri', 'first_name']\n",
      "Number of columns: 42\n"
     ]
    }
   ],
   "source": [
    "# Determine columns for database (Note: 101st Congress and above has 45 columns, 3 are constructed)\n",
    "r = requests.get(\n",
    "        f'https://api.propublica.org/congress/v1/80/senate/members.json',\n",
    "        headers={'X-API-Key': api_key}\n",
    ")\n",
    "sample = r.json()['results'][0]['members'][0]\n",
    "cols = list(sample.keys())\n",
    "print(f'First 5 columns: {cols[:5]}')\n",
    "print(f'Number of columns: {len(cols)}')"
   ]
  },
  {
   "cell_type": "code",
   "execution_count": 5,
   "metadata": {},
   "outputs": [],
   "source": [
    "# Add congress number column and format for \n",
    "cols = [ col + ' TEXT' for col in cols ]\n",
    "cols = ', '.join(cols)\n",
    "cols = cols + ', congress TEXT'"
   ]
  },
  {
   "cell_type": "code",
   "execution_count": 6,
   "metadata": {},
   "outputs": [],
   "source": [
    "# Create senator table\n",
    "c = conn.cursor()\n",
    "c.execute(\n",
    "    f'''\n",
    "    CREATE TABLE senators\n",
    "    ({cols})\n",
    "    ;\n",
    "    '''\n",
    ")\n",
    "c.close()"
   ]
  },
  {
   "cell_type": "code",
   "execution_count": 7,
   "metadata": {},
   "outputs": [
    {
     "name": "stdout",
     "output_type": "stream",
     "text": [
      "[(38, 'state', 'TEXT', 0, None, 0), (39, 'senate_class', 'TEXT', 0, None, 0), (40, 'state_rank', 'TEXT', 0, None, 0), (41, 'lis_id', 'TEXT', 0, None, 0), (42, 'congress', 'TEXT', 0, None, 0)]\n"
     ]
    }
   ],
   "source": [
    "# Check columns\n",
    "c = conn.cursor()\n",
    "c.execute(\n",
    "    '''\n",
    "    PRAGMA table_info(senators)\n",
    "    ;\n",
    "    '''\n",
    ")\n",
    "print(c.fetchall()[-5:])\n",
    "c.close()"
   ]
  },
  {
   "cell_type": "code",
   "execution_count": 8,
   "metadata": {},
   "outputs": [],
   "source": [
    "# Function to get data from ProPublica API\n",
    "def get_congress(n, chamber):\n",
    "    r = requests.get(\n",
    "        f'https://api.propublica.org/congress/v1/{n}/{chamber}/members.json',\n",
    "        headers={'X-API-Key': api_key}\n",
    "    )\n",
    "    results = r.json()['results'][0]['members']\n",
    "    return results\n",
    "\n",
    "# Function to extract congressional members\n",
    "def get_members(n, congress):\n",
    "    if len(congress[0]) == 43:\n",
    "        members = [ tuple(list(member.values()) + [f'{n}']) for member in congress ]\n",
    "    else:\n",
    "        members = [ tuple(list(member.values())[:42] + [f'{n}']) for member in congress ]\n",
    "    return members\n",
    "\n",
    "# Function to insert members\n",
    "def insert_members(n, chamber):\n",
    "    # SQL insert statement\n",
    "    s = ','.join('?'*43) # 43 value columns\n",
    "    insert_statement = f'''INSERT INTO senators VALUES ({s})'''\n",
    "    \n",
    "    congress = get_congress(n, chamber)\n",
    "    members = get_members(n, congress)\n",
    "    c = conn.cursor()\n",
    "    c.executemany(insert_statement, members)\n",
    "    c.close()"
   ]
  },
  {
   "cell_type": "code",
   "execution_count": 9,
   "metadata": {
    "scrolled": true
   },
   "outputs": [],
   "source": [
    "# Set parameters\n",
    "congresses = range(80, 117) # from the 80th congress to the 116th congress\n",
    "\n",
    "# Insert members\n",
    "for n in congresses:\n",
    "    insert_members(n)"
   ]
  },
  {
   "cell_type": "code",
   "execution_count": null,
   "metadata": {},
   "outputs": [],
   "source": []
  }
 ],
 "metadata": {
  "kernelspec": {
   "display_name": "cong-env",
   "language": "python",
   "name": "cong-env"
  },
  "language_info": {
   "codemirror_mode": {
    "name": "ipython",
    "version": 3
   },
   "file_extension": ".py",
   "mimetype": "text/x-python",
   "name": "python",
   "nbconvert_exporter": "python",
   "pygments_lexer": "ipython3",
   "version": "3.7.7"
  }
 },
 "nbformat": 4,
 "nbformat_minor": 4
}
